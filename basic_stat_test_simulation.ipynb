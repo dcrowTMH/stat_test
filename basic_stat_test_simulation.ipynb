{
 "cells": [
  {
   "cell_type": "code",
   "execution_count": 1,
   "id": "67409115-ddeb-4381-9c23-94944b1c057e",
   "metadata": {},
   "outputs": [],
   "source": [
    "import numpy as np\n",
    "import matplotlib.pyplot as plt\n",
    "import pandas as pd\n",
    "import math"
   ]
  },
  {
   "cell_type": "markdown",
   "id": "3735acb9-74a1-49cc-add7-62b9c55e4863",
   "metadata": {},
   "source": [
    "# One-sample T-Test"
   ]
  },
  {
   "cell_type": "code",
   "execution_count": 2,
   "id": "085ed43c-5594-458c-a502-c471300a7c1d",
   "metadata": {},
   "outputs": [],
   "source": [
    "# Not that common since you wont really know about the population mean in the real world\n",
    "# But you can assume a value for your population mean"
   ]
  },
  {
   "cell_type": "code",
   "execution_count": 3,
   "id": "5535e418-72de-4ec5-a1b0-3dc5435f0f93",
   "metadata": {},
   "outputs": [],
   "source": [
    "import numpy as np\n",
    "import matplotlib.pyplot as plt\n",
    "from scipy import stats\n",
    "import pandas as pd\n",
    "\n",
    "# Set a random seed for reproducibility\n",
    "np.random.seed(42)\n",
    "\n",
    "def simulate_one_sample_ttest(sample_size=30, population_mean=0, sample_mean=2, std_dev=3, n_simulations=1000):\n",
    "    \"\"\"\n",
    "    Simulates one-sample t-tests multiple times and analyzes the results.\n",
    "    \n",
    "    Parameters:\n",
    "    - sample_size: Size of each sample\n",
    "    - population_mean: The null hypothesis value (H0)\n",
    "    - sample_mean: The true mean of the distribution we're sampling from\n",
    "    - std_dev: Standard deviation of the distribution\n",
    "    - n_simulations: Number of simulations to run\n",
    "    \n",
    "    Returns:\n",
    "    - DataFrame with simulation results\n",
    "    \"\"\"\n",
    "    # Lists to store results\n",
    "    p_values = []\n",
    "    t_stats = []\n",
    "    reject_null = []\n",
    "    \n",
    "    # Run multiple simulations\n",
    "    for _ in range(n_simulations):\n",
    "        # Generate a random sample from a normal distribution\n",
    "        sample = np.random.normal(loc=sample_mean, scale=std_dev, size=sample_size)\n",
    "        \n",
    "        # Perform one-sample t-test against the null hypothesis value\n",
    "        t_stat, p_value = stats.ttest_1samp(sample, population_mean)\n",
    "        \n",
    "        # Store results\n",
    "        t_stats.append(t_stat)\n",
    "        p_values.append(p_value)\n",
    "        reject_null.append(p_value < 0.05)  # Using alpha = 0.05\n",
    "    \n",
    "    # Create a DataFrame with results\n",
    "    results = pd.DataFrame({\n",
    "        'T-Statistic': t_stats,\n",
    "        'P-Value': p_values,\n",
    "        'Reject Null': reject_null\n",
    "    })\n",
    "    \n",
    "    # Calculate the percentage of times we rejected the null hypothesis (statistical power)\n",
    "    power = results['Reject Null'].mean() * 100\n",
    "\n",
    "    # Display summary statistics\n",
    "    print(f\"Number of simulations: {len(results)}\")\n",
    "    print(f\"Percentage of tests that rejected the null hypothesis: {power:.2f}%\")\n",
    "    print(\"\\nSummary of t-statistics:\")\n",
    "    print(results['T-Statistic'].describe())\n",
    "    print(\"\\nSummary of p-values:\")\n",
    "    print(results['P-Value'].describe())\n",
    "\n",
    "    # Create visualizations\n",
    "    fig, (ax1, ax2) = plt.subplots(1, 2, figsize=(14, 5))\n",
    "\n",
    "    # Histogram of t-statistics\n",
    "    ax1.hist(results['T-Statistic'], bins=30, edgecolor='black', alpha=0.7)\n",
    "    ax1.axvline(x=0, color='red', linestyle='--', label=f'H0: μ = {sample_mean}')\n",
    "    ax1.set_title('Distribution of t-Statistics')\n",
    "    ax1.set_xlabel('t-Statistic')\n",
    "    ax1.set_ylabel('Frequency')\n",
    "    ax1.legend()\n",
    "\n",
    "    # Histogram of p-values\n",
    "    ax2.hist(results['P-Value'], bins=30, edgecolor='black', alpha=0.7)\n",
    "    ax2.axvline(x=0.05, color='red', linestyle='--', label='α = 0.05')\n",
    "    ax2.set_title('Distribution of p-Values')\n",
    "    ax2.set_xlabel('p-Value')\n",
    "    ax2.set_ylabel('Frequency')\n",
    "    ax2.legend()\n",
    "\n",
    "    plt.tight_layout()\n",
    "    plt.show()\n",
    "\n",
    "    # Example of a single test for demonstration\n",
    "    print(\"\\nExample of a single one-sample t-test:\")\n",
    "    example_sample = np.random.normal(loc=sample_mean, scale=std_dev, size=sample_size)\n",
    "    t_stat, p_value = stats.ttest_1samp(example_sample, 0)\n",
    "    print(f\"Sample mean: {example_sample.mean():.4f}\")\n",
    "    print(f\"t-statistic: {t_stat:.4f}\")\n",
    "    print(f\"p-value: {p_value:.4f}\")\n",
    "    print(f\"Reject null hypothesis: {p_value < 0.05}\")\n",
    "    \n",
    "    return results"
   ]
  },
  {
   "cell_type": "markdown",
   "id": "279fc9e9-f215-4799-bdc9-2dc812adbeb7",
   "metadata": {},
   "source": [
    "## Reject Null Hypothesis case"
   ]
  },
  {
   "cell_type": "code",
   "execution_count": 7,
   "id": "a807506d-f26b-4555-95c1-a49089a5a0d6",
   "metadata": {},
   "outputs": [
    {
     "name": "stdout",
     "output_type": "stream",
     "text": [
      "Number of simulations: 300\n",
      "Percentage of tests that rejected the null hypothesis: 100.00%\n",
      "\n",
      "Summary of t-statistics:\n",
      "count    300.000000\n",
      "mean      36.771526\n",
      "std        5.211116\n",
      "min       25.666291\n",
      "25%       33.238200\n",
      "50%       36.002397\n",
      "75%       39.745049\n",
      "max       61.744491\n",
      "Name: T-Statistic, dtype: float64\n",
      "\n",
      "Summary of p-values:\n",
      "count    3.000000e+02\n",
      "mean     1.903953e-23\n",
      "std      1.244292e-22\n",
      "min      2.501721e-32\n",
      "25%      7.615578e-27\n",
      "50%      1.268940e-25\n",
      "75%      1.220036e-24\n",
      "max      1.728572e-21\n",
      "Name: P-Value, dtype: float64\n"
     ]
    },
    {
     "data": {
      "image/png": "[encoded data removed]",
      "text/plain": [
       "<Figure size 1008x360 with 2 Axes>"
      ]
     },
     "metadata": {
      "needs_background": "light"
     },
     "output_type": "display_data"
    },
    {
     "name": "stdout",
     "output_type": "stream",
     "text": [
      "\n",
      "Example of a single one-sample t-test:\n",
      "Sample mean: 30.1854\n",
      "t-statistic: 70.0752\n",
      "p-value: 0.0000\n",
      "Reject null hypothesis: True\n"
     ]
    }
   ],
   "source": [
    "# Population and sample means are significantly different, should reject H0\n",
    "results = simulate_one_sample_ttest(population_mean = 10,\n",
    "                                    sample_mean = 30,\n",
    "                                    n_simulations = 300)"
   ]
  },
  {
   "cell_type": "markdown",
   "id": "fe503692-1b75-4e15-84d7-6f35b776d778",
   "metadata": {},
   "source": [
    "## Null Hypothesis was not rejected case"
   ]
  },
  {
   "cell_type": "code",
   "execution_count": 5,
   "id": "2d429490-fc49-4df5-9ce5-93ee66b8d976",
   "metadata": {},
   "outputs": [
    {
     "name": "stdout",
     "output_type": "stream",
     "text": [
      "Number of simulations: 300\n",
      "Percentage of tests that rejected the null hypothesis: 5.67%\n",
      "\n",
      "Summary of t-statistics:\n",
      "count    300.000000\n",
      "mean       0.075789\n",
      "std        1.032823\n",
      "min       -3.217898\n",
      "25%       -0.687734\n",
      "50%        0.148417\n",
      "75%        0.698638\n",
      "max        3.534233\n",
      "Name: T-Statistic, dtype: float64\n",
      "\n",
      "Summary of p-values:\n",
      "count    300.000000\n",
      "mean       0.495562\n",
      "std        0.280436\n",
      "min        0.001393\n",
      "25%        0.256156\n",
      "50%        0.489510\n",
      "75%        0.726046\n",
      "max        0.993356\n",
      "Name: P-Value, dtype: float64\n"
     ]
    },
    {
     "data": {
      "image/png": "[encoded data removed]",
      "text/plain": [
       "<Figure size 1008x360 with 2 Axes>"
      ]
     },
     "metadata": {
      "needs_background": "light"
     },
     "output_type": "display_data"
    },
    {
     "name": "stdout",
     "output_type": "stream",
     "text": [
      "\n",
      "Example of a single one-sample t-test:\n",
      "Sample mean: 9.6490\n",
      "t-statistic: 16.9728\n",
      "p-value: 0.0000\n",
      "Reject null hypothesis: True\n"
     ]
    }
   ],
   "source": [
    "# Population & sample means are the same, lower power to reject H0\n",
    "results = simulate_one_sample_ttest(population_mean = 10,\n",
    "                                    sample_mean = 10,\n",
    "                                    n_simulations = 300)"
   ]
  },
  {
   "cell_type": "markdown",
   "id": "7664c219-d268-4c98-abb2-1daf3b39837f",
   "metadata": {},
   "source": [
    "# One Sample Z-test"
   ]
  },
  {
   "cell_type": "code",
   "execution_count": null,
   "id": "6b0d3948-60b1-40e7-a0a7-b789368b7c66",
   "metadata": {},
   "outputs": [],
   "source": [
    "# Not common since you wont know the variance in the real world"
   ]
  },
  {
   "cell_type": "code",
   "execution_count": 8,
   "id": "6b6bb846-a3d2-483b-85c8-5b8ce6ebb3eb",
   "metadata": {},
   "outputs": [],
   "source": [
    "import numpy as np\n",
    "import matplotlib.pyplot as plt\n",
    "from scipy import stats\n",
    "import pandas as pd\n",
    "\n",
    "# Set a random seed for reproducibility\n",
    "np.random.seed(42)\n",
    "\n",
    "def simulate_one_sample_ztest(sample_size=30,\n",
    "                              population_mean=0,\n",
    "                              population_std_dev = 1,\n",
    "                              sample_mean=2,\n",
    "                              std_dev=3,\n",
    "                              n_simulations=1000):\n",
    "    \"\"\"\n",
    "    Simulates one-sample z-tests multiple times and analyzes the results.\n",
    "    \n",
    "    Parameters:\n",
    "    - sample_size: Size of each sample\n",
    "    - population_mean: The null hypothesis value (H0)\n",
    "    - population_std_dev: The null hypothesis value (H0)\n",
    "    - sample_mean: The true mean of the distribution we're sampling from\n",
    "    - std_dev: Standard deviation of the distribution\n",
    "    - n_simulations: Number of simulations to run\n",
    "    \n",
    "    Returns:\n",
    "    - DataFrame with simulation results\n",
    "    \"\"\"\n",
    "    p_values = []\n",
    "    z_stats = []\n",
    "    reject_null = []\n",
    "    \n",
    "    # Run multiple simulations\n",
    "    for _ in range(n_simulations):\n",
    "        # Generate a random sample from a normal distribution based on the sample mean and vairance\n",
    "        sample = np.random.normal(loc = sample_mean,\n",
    "                                  scale = std_dev,\n",
    "                                  size = sample_size)\n",
    "        x_bar = np.mean(sample)\n",
    "        # (x_bar - μ) / (σ / √n)\n",
    "        z_stat = (x_bar - population_mean) / (population_std_dev / np.sqrt(sample_size))\n",
    "        p_value = 2 * (1 - stats.norm.cdf(abs(z_stat)))\n",
    "        \n",
    "        z_stats.append(z_stat)\n",
    "        p_values.append(p_value)\n",
    "        reject_null.append(p_value < 0.05)\n",
    "    \n",
    "    # Create a DataFrame with results\n",
    "    results = pd.DataFrame({\n",
    "        'Z-Statistic': z_stats,\n",
    "        'P-Value': p_values,\n",
    "        'Reject Null': reject_null\n",
    "    })\n",
    "    \n",
    "    # Calculate the percentage of times we rejected the null hypothesis (statistical power)\n",
    "    power = results['Reject Null'].mean() * 100\n",
    "    \n",
    "    # Display summary statistics\n",
    "    print(f\"Number of simulations: {len(results)}\")\n",
    "    print(f\"Percentage of tests that rejected the null hypothesis: {power:.2f}%\")\n",
    "    print(\"\\nSummary of z-statistics:\")\n",
    "    print(results['Z-Statistic'].describe())\n",
    "    print(\"\\nSummary of p-values:\")\n",
    "    print(results['P-Value'].describe())\n",
    "\n",
    "    # Create visualizations\n",
    "    fig, (ax1, ax2) = plt.subplots(1, 2, figsize=(14, 5))\n",
    "\n",
    "    # Histogram of t-statistics\n",
    "    ax1.hist(results['Z-Statistic'], bins=30, edgecolor='black', alpha=0.7)\n",
    "    ax1.axvline(x=0, color='red', linestyle='--', label=f'H0: μ = {sample_mean}')\n",
    "    ax1.set_title('Distribution of z-Statistics')\n",
    "    ax1.set_xlabel('z-Statistic')\n",
    "    ax1.set_ylabel('Frequency')\n",
    "    ax1.legend()\n",
    "\n",
    "    # Histogram of p-values\n",
    "    ax2.hist(results['P-Value'], bins=30, edgecolor='black', alpha=0.7)\n",
    "    ax2.axvline(x=0.05, color='red', linestyle='--', label='α = 0.05')\n",
    "    ax2.set_title('Distribution of p-Values')\n",
    "    ax2.set_xlabel('p-Value')\n",
    "    ax2.set_ylabel('Frequency')\n",
    "    ax2.legend()\n",
    "\n",
    "    plt.tight_layout()\n",
    "    plt.show()\n",
    "\n",
    "    # Example of a single test for demonstration\n",
    "    print(\"\\nExample of a single one-sample t-test:\")\n",
    "    example_sample = np.random.normal(loc=sample_mean, scale=std_dev, size=sample_size)\n",
    "    x_bar = np.mean(example_sample)\n",
    "    z_stat = (x_bar - population_mean) / (population_std_dev / np.sqrt(sample_size))\n",
    "    p_value = 2 * (1 - stats.norm.cdf(abs(z_stat)))\n",
    "    print(f\"Sample mean: {example_sample.mean():.4f}\")\n",
    "    print(f\"t-statistic: {z_stat:.4f}\")\n",
    "    print(f\"p-value: {p_value:.4f}\")\n",
    "    print(f\"Reject null hypothesis: {p_value < 0.05}\")\n",
    "    return results"
   ]
  },
  {
   "cell_type": "markdown",
   "id": "49c31d6d-b57d-42fa-a5cf-23c426d4cf0a",
   "metadata": {},
   "source": [
    "## Reject Null Hypothesis case"
   ]
  },
  {
   "cell_type": "code",
   "execution_count": 9,
   "id": "adcff5de-0645-4ea2-9618-fb153469c0c1",
   "metadata": {},
   "outputs": [
    {
     "name": "stdout",
     "output_type": "stream",
     "text": [
      "Number of simulations: 1000\n",
      "Percentage of tests that rejected the null hypothesis: 100.00%\n",
      "\n",
      "Summary of z-statistics:\n",
      "count    1000.000000\n",
      "mean     -361.498832\n",
      "std         0.993505\n",
      "min      -364.809962\n",
      "25%      -362.200879\n",
      "50%      -361.488369\n",
      "75%      -360.858116\n",
      "max      -357.427829\n",
      "Name: Z-Statistic, dtype: float64\n",
      "\n",
      "Summary of p-values:\n",
      "count    1000.0\n",
      "mean        0.0\n",
      "std         0.0\n",
      "min         0.0\n",
      "25%         0.0\n",
      "50%         0.0\n",
      "75%         0.0\n",
      "max         0.0\n",
      "Name: P-Value, dtype: float64\n"
     ]
    },
    {
     "data": {
      "image/png": "[encoded data removed]",
      "text/plain": [
       "<Figure size 1008x360 with 2 Axes>"
      ]
     },
     "metadata": {
      "needs_background": "light"
     },
     "output_type": "display_data"
    },
    {
     "name": "stdout",
     "output_type": "stream",
     "text": [
      "\n",
      "Example of a single one-sample t-test:\n",
      "Sample mean: 0.9397\n",
      "t-statistic: -363.4328\n",
      "p-value: 0.0000\n",
      "Reject null hypothesis: True\n"
     ]
    }
   ],
   "source": [
    "# Population and sample means are significantly different, should reject H0\n",
    "results = simulate_one_sample_ztest(sample_size=30,\n",
    "                          population_mean=200,\n",
    "                          population_std_dev = 3,\n",
    "                          sample_mean=2,\n",
    "                          std_dev=3,\n",
    "                          n_simulations=1000)"
   ]
  },
  {
   "cell_type": "markdown",
   "id": "dac8b4c7-846f-4919-8b79-c21708839a75",
   "metadata": {},
   "source": [
    "## Null Hypothesis was not rejected case"
   ]
  },
  {
   "cell_type": "code",
   "execution_count": 20,
   "id": "7410e14d-feec-417d-918d-4d889b5f7559",
   "metadata": {},
   "outputs": [
    {
     "name": "stdout",
     "output_type": "stream",
     "text": [
      "Number of simulations: 1000\n",
      "Percentage of tests that rejected the null hypothesis: 4.60%\n",
      "\n",
      "Summary of z-statistics:\n",
      "count    1000.000000\n",
      "mean        0.026494\n",
      "std         0.979190\n",
      "min        -3.129918\n",
      "25%        -0.618578\n",
      "50%         0.068226\n",
      "75%         0.694546\n",
      "max         3.007511\n",
      "Name: Z-Statistic, dtype: float64\n",
      "\n",
      "Summary of p-values:\n",
      "count    1000.000000\n",
      "mean        0.502835\n",
      "std         0.284183\n",
      "min         0.001749\n",
      "25%         0.261752\n",
      "50%         0.504856\n",
      "75%         0.741963\n",
      "max         0.999945\n",
      "Name: P-Value, dtype: float64\n"
     ]
    },
    {
     "data": {
      "image/png": "[encoded data removed]",
      "text/plain": [
       "<Figure size 1008x360 with 2 Axes>"
      ]
     },
     "metadata": {
      "needs_background": "light"
     },
     "output_type": "display_data"
    },
    {
     "name": "stdout",
     "output_type": "stream",
     "text": [
      "\n",
      "Example of a single one-sample t-test:\n",
      "Sample mean: 1.7384\n",
      "t-statistic: -0.4776\n",
      "p-value: 0.6329\n",
      "Reject null hypothesis: False\n"
     ]
    }
   ],
   "source": [
    "# Population & sample means & stds are the same, lower power to reject H0\n",
    "results = simulate_one_sample_ztest(sample_size=30,\n",
    "                          population_mean=2,\n",
    "                          population_std_dev = 3,\n",
    "                          sample_mean=2,\n",
    "                          std_dev=3,\n",
    "                          n_simulations=1000)"
   ]
  },
  {
   "cell_type": "markdown",
   "id": "2464c1f5-5d2f-4fec-b2de-74fc30958b74",
   "metadata": {},
   "source": [
    "# Two Sample T-test with known population variance"
   ]
  },
  {
   "cell_type": "code",
   "execution_count": 11,
   "id": "3396dcd7-e945-4430-a6a3-0edf65eec927",
   "metadata": {},
   "outputs": [],
   "source": [
    "import numpy as np\n",
    "import matplotlib.pyplot as plt\n",
    "from scipy import stats\n",
    "import pandas as pd\n",
    "\n",
    "# Set a random seed for reproducibility\n",
    "np.random.seed(42)\n",
    "\n",
    "def simulate_two_sample_ttest_with_known_variance(sample_one_size = 30,\n",
    "                                                  sample_two_size = 30,\n",
    "                                                 population_one_mean = 2,\n",
    "                                                 population_one_std_dev = 1,\n",
    "                                                 population_two_mean = 2,\n",
    "                                                 population_two_std_dev = 1,\n",
    "                                                 n_simulations = 300):\n",
    "    \"\"\"\n",
    "    Simulates two-sample t-tests multiple times with known population mean and variance and analyzes the results.\n",
    "    \n",
    "    Parameters:\n",
    "    - sample_one_size: Size of first sample\n",
    "    - sample_two_size: Size of second sample\n",
    "    - population_one_mean: Mean on the first population\n",
    "    - population_one_std_dev: Standard Deviation for the first sample (Usually wont know about it)\n",
    "    - population_two_mean: Mean on the second population\n",
    "    - population_two_std_dev: Standard Deviation for the second sample (Usually wont know about it)\n",
    "    - n_simulations: Number of simulations to run\n",
    "    \n",
    "    Returns:\n",
    "    - DataFrame with simulation results\n",
    "    \"\"\"\n",
    "    p_values = []\n",
    "    t_stats = []\n",
    "    reject_null = []\n",
    "    mean_differences = []\n",
    "    \n",
    "    # Run multiple simulations\n",
    "    for _ in range(n_simulations):\n",
    "        # Generate a random sample from a normal distribution based on the sample mean and vairance from each sample\n",
    "        sample_1 = np.random.normal(loc = population_one_mean,\n",
    "                                  scale = population_one_std_dev,\n",
    "                                  size = sample_one_size)\n",
    "        sample_2 = np.random.normal(loc = population_two_mean,\n",
    "                                  scale = population_two_std_dev,\n",
    "                                  size = sample_two_size)\n",
    "        mean_1 = np.mean(sample_1)\n",
    "        mean_2 = np.mean(sample_2)\n",
    "        \n",
    "        # calculate the diff. among the sample mean & population mean\n",
    "        sample_mean_diff = mean_1 - mean_2\n",
    "        population_mean_diff = population_one_mean - population_two_mean\n",
    "        \n",
    "        # (x_bar1 - x_bar2) - (μ1 - μ2) / ((σ1^2 / √n1) + (σ2^2 / √n2))^0.5\n",
    "        t_stat = sample_mean_diff / np.sqrt((population_one_std_dev**2 / sample_one_size) + (population_two_std_dev**2 / sample_two_size))\n",
    "        p_value = 2 * (1 - stats.norm.cdf(abs(t_stat))) # two-tailed\n",
    "        \n",
    "        t_stats.append(t_stat)\n",
    "        p_values.append(p_value)\n",
    "        reject_null.append(p_value < 0.05)\n",
    "        mean_differences.append(sample_mean_diff)\n",
    "    \n",
    "    # Create a DataFrame with results\n",
    "    results = pd.DataFrame({\n",
    "        'T-Statistic': t_stats,\n",
    "        'P-Value': p_values,\n",
    "        'Reject Null': reject_null,\n",
    "        'Mean Difference' : mean_differences\n",
    "    })\n",
    "    \n",
    "    # Calculate the percentage of times we rejected the null hypothesis (statistical power)\n",
    "    power = results['Reject Null'].mean() * 100\n",
    "    \n",
    "    # Display summary statistics\n",
    "    print(f\"Number of simulations: {len(results)}\")\n",
    "    print(f\"Percentage of tests that rejected the null hypothesis: {power:.2f}%\")\n",
    "    print(\"\\nSummary of t-statistics:\")\n",
    "    print(results['T-Statistic'].describe())\n",
    "    print(\"\\nSummary of p-values:\")\n",
    "    print(results['P-Value'].describe())\n",
    "\n",
    "    # Create visualizations\n",
    "    fig, (ax1, ax2, ax3) = plt.subplots(1, 3, figsize=(14, 5))\n",
    "\n",
    "    # Histogram of t-statistics\n",
    "    ax1.hist(results['T-Statistic'], bins=30, edgecolor='black', alpha=0.7)\n",
    "    ax1.axvline(x=0, color='red', linestyle='--', label=f'H0: μ1 = μ2')\n",
    "    ax1.set_title('Distribution of t-Statistics')\n",
    "    ax1.set_xlabel('t-Statistic')\n",
    "    ax1.set_ylabel('Frequency')\n",
    "    ax1.legend()\n",
    "\n",
    "    # Histogram of p-values\n",
    "    ax2.hist(results['P-Value'], bins=30, edgecolor='black', alpha=0.7)\n",
    "    ax2.axvline(x=0.05, color='red', linestyle='--', label='α = 0.05')\n",
    "    ax2.set_title('Distribution of p-Values')\n",
    "    ax2.set_xlabel('p-Value')\n",
    "    ax2.set_ylabel('Frequency')\n",
    "    ax2.legend()\n",
    "    \n",
    "    # Histogram of mean differences\n",
    "    ax3.hist(results['Mean Difference'], bins=30, edgecolor='black', alpha=0.7)\n",
    "    ax3.axvline(x=population_mean_diff, color='red', linestyle='--', \n",
    "                label=f'Expected: μ1-μ2 = {population_mean_diff}')\n",
    "    ax3.set_title('Distribution of Sample Mean Differences')\n",
    "    ax3.set_xlabel('Mean Difference')\n",
    "    ax3.set_ylabel('Frequency')\n",
    "    ax3.legend()\n",
    "\n",
    "    plt.tight_layout()\n",
    "    plt.show()\n",
    "\n",
    "    # Example of a single test for demonstration\n",
    "    print(\"\\nExample of a two-sample t-test:\")\n",
    "    # Generate a random sample from a normal distribution based on the sample mean and vairance from each sample\n",
    "    example_sample_1 = np.random.normal(loc = population_one_mean,\n",
    "                              scale = population_one_std_dev,\n",
    "                              size = sample_one_size)\n",
    "    example_sample_2 = np.random.normal(loc = population_two_mean,\n",
    "                              scale = population_two_std_dev,\n",
    "                              size = sample_two_size)\n",
    "    mean_1 = np.mean(example_sample_1)\n",
    "    mean_2 = np.mean(example_sample_2)\n",
    "\n",
    "    # calculate the diff. among the sample mean & population mean\n",
    "    sample_mean_diff = mean_1 - mean_2\n",
    "    population_mean_diff = population_one_mean - population_two_mean\n",
    "\n",
    "    # (x_bar1 - x_bar2) - (μ1 - μ2) / ((σ1^2 / √n1) + (σ2^2 / √n2))^0.5\n",
    "    t_stat = sample_mean_diff / np.sqrt((population_one_std_dev**2 / sample_one_size) + (population_two_std_dev**2 / sample_two_size))\n",
    "    p_value = 2 * (1 - stats.norm.cdf(abs(t_stat))) # two-tailed\n",
    "    print(f\"Sample 1 mean: {example_sample_1.mean():.4f}\")\n",
    "    print(f\"Sample 2 mean: {example_sample_2.mean():.4f}\")\n",
    "    print(f\"t-statistic: {t_stat:.4f}\")\n",
    "    print(f\"p-value: {p_value:.4f}\")\n",
    "    print(f\"Reject null hypothesis: {p_value < 0.05}\")\n",
    "    return results\n",
    "        "
   ]
  },
  {
   "cell_type": "markdown",
   "id": "ad1faf64-a211-459b-bfb4-23f789b4e29b",
   "metadata": {},
   "source": [
    "## Reject Null Hypothesis case"
   ]
  },
  {
   "cell_type": "code",
   "execution_count": 12,
   "id": "b55454dc-e10c-45bb-8e38-54985abcdd0d",
   "metadata": {},
   "outputs": [
    {
     "name": "stdout",
     "output_type": "stream",
     "text": [
      "Number of simulations: 300\n",
      "Percentage of tests that rejected the null hypothesis: 100.00%\n",
      "\n",
      "Summary of t-statistics:\n",
      "count    300.000000\n",
      "mean       6.501932\n",
      "std        0.989508\n",
      "min        3.244311\n",
      "25%        5.848874\n",
      "50%        6.507728\n",
      "75%        7.175863\n",
      "max        9.357904\n",
      "Name: T-Statistic, dtype: float64\n",
      "\n",
      "Summary of p-values:\n",
      "count    3.000000e+02\n",
      "mean     4.599986e-06\n",
      "std      6.814649e-05\n",
      "min      0.000000e+00\n",
      "25%      7.188694e-13\n",
      "50%      7.630374e-11\n",
      "75%      4.953279e-09\n",
      "max      1.177353e-03\n",
      "Name: P-Value, dtype: float64\n"
     ]
    },
    {
     "data": {
      "image/png": "[encoded data removed]",
      "text/plain": [
       "<Figure size 1008x360 with 3 Axes>"
      ]
     },
     "metadata": {
      "needs_background": "light"
     },
     "output_type": "display_data"
    },
    {
     "name": "stdout",
     "output_type": "stream",
     "text": [
      "\n",
      "Example of a two-sample t-test:\n",
      "Sample 1 mean: 9.9274\n",
      "Sample 2 mean: 4.6490\n",
      "t-statistic: 6.8144\n",
      "p-value: 0.0000\n",
      "Reject null hypothesis: True\n"
     ]
    }
   ],
   "source": [
    "# Population means are significantly different, should reject H0\n",
    "results_reject = simulate_two_sample_ttest_with_known_variance(\n",
    "    sample_one_size=30,\n",
    "    sample_two_size=30,\n",
    "    population_one_mean=10,  # Meaningful difference from population_two_mean\n",
    "    population_one_std_dev=3,\n",
    "    population_two_mean=5,\n",
    "    population_two_std_dev=3,\n",
    "    n_simulations=300\n",
    ")"
   ]
  },
  {
   "cell_type": "markdown",
   "id": "f4ad3a60-f16c-47de-927d-081d94382562",
   "metadata": {},
   "source": [
    "## Null Hypothesis was not rejected case"
   ]
  },
  {
   "cell_type": "code",
   "execution_count": 13,
   "id": "8cb13972-e4cf-4bee-a3b8-0216e716dc24",
   "metadata": {},
   "outputs": [
    {
     "name": "stdout",
     "output_type": "stream",
     "text": [
      "Number of simulations: 300\n",
      "Percentage of tests that rejected the null hypothesis: 3.00%\n",
      "\n",
      "Summary of t-statistics:\n",
      "count    300.000000\n",
      "mean       0.050121\n",
      "std        0.955729\n",
      "min       -2.562511\n",
      "25%       -0.651501\n",
      "50%        0.076158\n",
      "75%        0.819749\n",
      "max        2.341428\n",
      "Name: T-Statistic, dtype: float64\n",
      "\n",
      "Summary of p-values:\n",
      "count    300.000000\n",
      "mean       0.481506\n",
      "std        0.265695\n",
      "min        0.010392\n",
      "25%        0.260453\n",
      "50%        0.469384\n",
      "75%        0.701243\n",
      "max        0.992080\n",
      "Name: P-Value, dtype: float64\n"
     ]
    },
    {
     "data": {
      "image/png": "[encoded data removed]",
      "text/plain": [
       "<Figure size 1008x360 with 3 Axes>"
      ]
     },
     "metadata": {
      "needs_background": "light"
     },
     "output_type": "display_data"
    },
    {
     "name": "stdout",
     "output_type": "stream",
     "text": [
      "\n",
      "Example of a two-sample t-test:\n",
      "Sample 1 mean: 7.3384\n",
      "Sample 2 mean: 7.1854\n",
      "t-statistic: 0.1975\n",
      "p-value: 0.8434\n",
      "Reject null hypothesis: False\n"
     ]
    }
   ],
   "source": [
    "# Population means are the same, lower power to reject H0\n",
    "results_dont_reject = simulate_two_sample_ttest_with_known_variance(\n",
    "    sample_one_size=30,\n",
    "    sample_two_size=30,\n",
    "    population_one_mean=7,  # Same as population_two_mean\n",
    "    population_one_std_dev=3,\n",
    "    population_two_mean=7,\n",
    "    population_two_std_dev=3,\n",
    "    n_simulations=300\n",
    ")"
   ]
  },
  {
   "cell_type": "markdown",
   "id": "1af8da1b-8150-4e8f-a22c-3e4774d1a815",
   "metadata": {},
   "source": [
    "# Two Sample T-test with unknown population variance"
   ]
  },
  {
   "cell_type": "code",
   "execution_count": 14,
   "id": "e4644b2c-62ca-4c80-b7da-6ef3c953b6f8",
   "metadata": {},
   "outputs": [],
   "source": [
    "import numpy as np\n",
    "import matplotlib.pyplot as plt\n",
    "from scipy import stats\n",
    "import pandas as pd\n",
    "\n",
    "# Set a random seed for reproducibility\n",
    "np.random.seed(42)\n",
    "\n",
    "def simulate_two_sample_ttest_with_unknown_variance(sample_one_size = 30,\n",
    "                                                  sample_two_size = 30,\n",
    "                                                 population_one_mean = 2,\n",
    "                                                 population_one_std_dev = 1,\n",
    "                                                 population_two_mean = 2,\n",
    "                                                 population_two_std_dev = 1,\n",
    "                                                 n_simulations = 300):\n",
    "    \"\"\"\n",
    "    Simulates two-sample t-tests multiple times with known population mean and variance and analyzes the results.\n",
    "    \n",
    "    Parameters:\n",
    "    - sample_one_size: Size of first sample\n",
    "    - sample_two_size: Size of second sample\n",
    "    - population_one_mean: Mean on the first population\n",
    "    - population_one_std_dev: Standard Deviation for the first sample (Usually wont know about it)\n",
    "    - population_two_mean: Mean on the second population\n",
    "    - population_two_std_dev: Standard Deviation for the second sample (Usually wont know about it)\n",
    "    - n_simulations: Number of simulations to run\n",
    "    \n",
    "    Returns:\n",
    "    - DataFrame with simulation results\n",
    "    \"\"\"\n",
    "    p_values = []\n",
    "    t_stats = []\n",
    "    reject_null = []\n",
    "    mean_differences = []\n",
    "    \n",
    "    # Run multiple simulations\n",
    "    for _ in range(n_simulations):\n",
    "        # Generate a random sample from a normal distribution based on the sample mean and vairance from each sample\n",
    "        sample_1 = np.random.normal(loc = population_one_mean,\n",
    "                                  scale = population_one_std_dev,\n",
    "                                  size = sample_one_size)\n",
    "        sample_2 = np.random.normal(loc = population_two_mean,\n",
    "                                  scale = population_two_std_dev,\n",
    "                                  size = sample_two_size)\n",
    "        # calling the stats library for the t-stats & p value\n",
    "        t_stat, p_value = stats.ttest_ind(sample_1, sample_2, equal_var = False)\n",
    "        t_stats.append(t_stat)\n",
    "        p_values.append(p_value)\n",
    "        reject_null.append(p_value < 0.05)\n",
    "    \n",
    "    # Create a DataFrame with results\n",
    "    results = pd.DataFrame({\n",
    "        'T-Statistic': t_stats,\n",
    "        'P-Value': p_values,\n",
    "        'Reject Null': reject_null\n",
    "    })\n",
    "    \n",
    "    # Calculate the percentage of times we rejected the null hypothesis (statistical power)\n",
    "    power = results['Reject Null'].mean() * 100\n",
    "    \n",
    "    # Display summary statistics\n",
    "    print(f\"Number of simulations: {len(results)}\")\n",
    "    print(f\"Percentage of tests that rejected the null hypothesis: {power:.2f}%\")\n",
    "    print(\"\\nSummary of t-statistics:\")\n",
    "    print(results['T-Statistic'].describe())\n",
    "    print(\"\\nSummary of p-values:\")\n",
    "    print(results['P-Value'].describe())\n",
    "\n",
    "    # Create visualizations\n",
    "    fig, (ax1, ax2) = plt.subplots(1, 2, figsize=(14, 5))\n",
    "\n",
    "    # Histogram of t-statistics\n",
    "    ax1.hist(results['T-Statistic'], bins=30, edgecolor='black', alpha=0.7)\n",
    "    ax1.axvline(x=0, color='red', linestyle='--', label=f'H0: μ1 = μ2')\n",
    "    ax1.set_title('Distribution of t-Statistics')\n",
    "    ax1.set_xlabel('t-Statistic')\n",
    "    ax1.set_ylabel('Frequency')\n",
    "    ax1.legend()\n",
    "\n",
    "    # Histogram of p-values\n",
    "    ax2.hist(results['P-Value'], bins=30, edgecolor='black', alpha=0.7)\n",
    "    ax2.axvline(x=0.05, color='red', linestyle='--', label='α = 0.05')\n",
    "    ax2.set_title('Distribution of p-Values')\n",
    "    ax2.set_xlabel('p-Value')\n",
    "    ax2.set_ylabel('Frequency')\n",
    "    ax2.legend()\n",
    "\n",
    "    plt.tight_layout()\n",
    "    plt.show()\n",
    "\n",
    "    # Example of a single test for demonstration\n",
    "    print(\"\\nExample of a two-sample t-test:\")\n",
    "    # Generate a random sample from a normal distribution based on the sample mean and vairance from each sample\n",
    "    example_sample_1 = np.random.normal(loc = population_one_mean,\n",
    "                              scale = population_one_std_dev,\n",
    "                              size = sample_one_size)\n",
    "    example_sample_2 = np.random.normal(loc = population_two_mean,\n",
    "                              scale = population_two_std_dev,\n",
    "                              size = sample_two_size)\n",
    "    t_stat, p_value = stats.ttest_ind(example_sample_1, example_sample_2, equal_var = False)\n",
    "    print(f\"Sample 1 mean: {example_sample_1.mean():.4f}\")\n",
    "    print(f\"Sample 2 mean: {example_sample_2.mean():.4f}\")\n",
    "    print(f\"t-statistic: {t_stat:.4f}\")\n",
    "    print(f\"p-value: {p_value:.4f}\")\n",
    "    print(f\"Reject null hypothesis: {p_value < 0.05}\")\n",
    "    return results\n",
    "        "
   ]
  },
  {
   "cell_type": "markdown",
   "id": "471055db-7ad6-4f69-ad2b-65c3c0ad597b",
   "metadata": {},
   "source": [
    "## Reject Null Hypothesis case"
   ]
  },
  {
   "cell_type": "code",
   "execution_count": 16,
   "id": "36cf6d51-b752-43a6-90f8-51ebc360b6f9",
   "metadata": {},
   "outputs": [
    {
     "name": "stdout",
     "output_type": "stream",
     "text": [
      "Number of simulations: 300\n",
      "Percentage of tests that rejected the null hypothesis: 100.00%\n",
      "\n",
      "Summary of t-statistics:\n",
      "count    300.000000\n",
      "mean     -12.994535\n",
      "std        1.566969\n",
      "min      -19.453989\n",
      "25%      -13.811245\n",
      "50%      -12.947461\n",
      "75%      -11.895147\n",
      "max       -9.458304\n",
      "Name: T-Statistic, dtype: float64\n",
      "\n",
      "Summary of p-values:\n",
      "count    3.000000e+02\n",
      "mean     3.376121e-15\n",
      "std      4.324904e-14\n",
      "min      1.119062e-26\n",
      "25%      9.942471e-20\n",
      "50%      1.901098e-18\n",
      "75%      6.456973e-17\n",
      "max      7.460597e-13\n",
      "Name: P-Value, dtype: float64\n"
     ]
    },
    {
     "data": {
      "image/png": "[encoded data removed]",
      "text/plain": [
       "<Figure size 1008x360 with 2 Axes>"
      ]
     },
     "metadata": {
      "needs_background": "light"
     },
     "output_type": "display_data"
    },
    {
     "name": "stdout",
     "output_type": "stream",
     "text": [
      "\n",
      "Example of a two-sample t-test:\n",
      "Sample 1 mean: 10.3384\n",
      "Sample 2 mean: 20.1854\n",
      "t-statistic: -14.9990\n",
      "p-value: 0.0000\n",
      "Reject null hypothesis: True\n"
     ]
    }
   ],
   "source": [
    "# Population means are significantly different, should reject H0\n",
    "results_reject = simulate_two_sample_ttest_with_unknown_variance(\n",
    "    sample_one_size=30,\n",
    "    sample_two_size=30,\n",
    "    population_one_mean=10,  # Meaningful difference from population_two_mean\n",
    "    population_one_std_dev=3,\n",
    "    population_two_mean=20,\n",
    "    population_two_std_dev=3,\n",
    "    n_simulations=300\n",
    ")"
   ]
  },
  {
   "cell_type": "markdown",
   "id": "052f4930-3fd7-4ec2-ad2b-96a29dd883c9",
   "metadata": {},
   "source": [
    "## Null Hypothesis was not rejected case"
   ]
  },
  {
   "cell_type": "code",
   "execution_count": 17,
   "id": "219f4ffd-0a0d-45dd-87c6-e05d0cce7c3d",
   "metadata": {},
   "outputs": [
    {
     "name": "stdout",
     "output_type": "stream",
     "text": [
      "Number of simulations: 300\n",
      "Percentage of tests that rejected the null hypothesis: 4.33%\n",
      "\n",
      "Summary of t-statistics:\n",
      "count    300.000000\n",
      "mean       0.089986\n",
      "std        1.055131\n",
      "min       -3.217685\n",
      "25%       -0.676300\n",
      "50%        0.099311\n",
      "75%        0.839017\n",
      "max        2.994333\n",
      "Name: T-Statistic, dtype: float64\n",
      "\n",
      "Summary of p-values:\n",
      "count    300.000000\n",
      "mean       0.474404\n",
      "std        0.284005\n",
      "min        0.002136\n",
      "25%        0.217411\n",
      "50%        0.474015\n",
      "75%        0.718335\n",
      "max        0.998274\n",
      "Name: P-Value, dtype: float64\n"
     ]
    },
    {
     "data": {
      "image/png": "[encoded data removed]",
      "text/plain": [
       "<Figure size 1008x360 with 2 Axes>"
      ]
     },
     "metadata": {
      "needs_background": "light"
     },
     "output_type": "display_data"
    },
    {
     "name": "stdout",
     "output_type": "stream",
     "text": [
      "\n",
      "Example of a two-sample t-test:\n",
      "Sample 1 mean: 10.6102\n",
      "Sample 2 mean: 9.9806\n",
      "t-statistic: 0.8438\n",
      "p-value: 0.4028\n",
      "Reject null hypothesis: False\n"
     ]
    }
   ],
   "source": [
    "# Population means are the same, lower power to reject H0\n",
    "results_reject = simulate_two_sample_ttest_with_unknown_variance(\n",
    "    sample_one_size=30,\n",
    "    sample_two_size=30,\n",
    "    population_one_mean=10,  # Meaningful difference from population_two_mean\n",
    "    population_one_std_dev=3,\n",
    "    population_two_mean=10,\n",
    "    population_two_std_dev=3,\n",
    "    n_simulations=300\n",
    ")"
   ]
  },
  {
   "cell_type": "markdown",
   "id": "45b776e6-fe66-4722-9a92-86e63cab63a8",
   "metadata": {},
   "source": [
    "# One Sample Proportion Test"
   ]
  },
  {
   "cell_type": "code",
   "execution_count": null,
   "id": "c151c241-6d1c-4f19-b953-07de0a92be26",
   "metadata": {},
   "outputs": [],
   "source": [
    "import numpy as np\n",
    "import matplotlib.pyplot as plt\n",
    "from scipy import stats\n",
    "import pandas as pd\n",
    "\n",
    "# Set a random seed for reproducibility\n",
    "np.random.seed(42)\n",
    "\n",
    "def simulate_one_sample_proportion_test(sample_size=30, population_proportion = 0.8, sample_proportion = 0.7, n_simulations=10000):\n",
    "    \"\"\"\n",
    "    Simulates one-sample t-tests multiple times and analyzes the results.\n",
    "    \n",
    "    Parameters:\n",
    "    - sample_size: Size of sample\n",
    "    - population_proportion: The null hypothesis value (H0)\n",
    "    - sample_proportion: The sample proportion for data simulation\n",
    "    - n_simulations: Number of simulations to run\n",
    "    \n",
    "    Returns:\n",
    "    - DataFrame with simulation results\n",
    "    \"\"\"\n",
    "    sample = np.random.binomial(1, sample_proportion, sample_size)\n",
    "    "
   ]
  }
 ],
 "metadata": {
  "kernelspec": {
   "display_name": "Python 3 (ipykernel)",
   "language": "python",
   "name": "python3"
  },
  "language_info": {
   "codemirror_mode": {
    "name": "ipython",
    "version": 3
   },
   "file_extension": ".py",
   "mimetype": "text/x-python",
   "name": "python",
   "nbconvert_exporter": "python",
   "pygments_lexer": "ipython3",
   "version": "3.9.7"
  }
 },
 "nbformat": 4,
 "nbformat_minor": 5
}
