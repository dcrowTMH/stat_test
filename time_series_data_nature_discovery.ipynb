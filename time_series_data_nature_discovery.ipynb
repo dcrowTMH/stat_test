{
 "cells": [
  {
   "cell_type": "code",
   "execution_count": 11,
   "id": "ccc80a6e-adf9-436e-ae42-974eb651adb2",
   "metadata": {},
   "outputs": [],
   "source": [
    "import pandas as pd\n",
    "import numpy as np\n",
    "import datetime as dt\n",
    "from dateutil.relativedelta import relativedelta\n",
    "import matplotlib.pyplot as plt\n",
    "import seaborn as sns\n",
    "from scipy import stats\n",
    "from statsmodels.tsa.seasonal import seasonal_decompose\n",
    "from statsmodels.tsa.stattools import adfuller\n",
    "from statsmodels.stats.diagnostic import acorr_ljungbox\n",
    "import statsmodels.api as sm\n",
    "from statsmodels.graphics.tsaplots import plot_acf, plot_pacf\n",
    "import warnings\n",
    "warnings.filterwarnings('ignore')\n",
    "\n",
    "# Set style for better plots\n",
    "plt.style.use('default')\n",
    "sns.set_palette(\"husl\")"
   ]
  },
  {
   "cell_type": "markdown",
   "id": "1c2ac8ea-c590-4343-bfd4-e01a3d473fe5",
   "metadata": {
    "tags": []
   },
   "source": [
    "# Sample Stock Data"
   ]
  },
  {
   "cell_type": "code",
   "execution_count": 12,
   "id": "fee18e95-255c-46d6-8e42-7b3712b25fe5",
   "metadata": {},
   "outputs": [],
   "source": [
    "df = pd.read_csv('AAPL_sample_data.csv')"
   ]
  },
  {
   "cell_type": "markdown",
   "id": "fffc8c3d-e471-40e9-872d-cc0e08badc02",
   "metadata": {},
   "source": [
    "# Data Frame data types detection"
   ]
  },
  {
   "cell_type": "code",
   "execution_count": 5,
   "id": "fe7a7166-7994-4a21-8987-2fa870420e66",
   "metadata": {},
   "outputs": [],
   "source": [
    "def df_data_type_detection(df: pd.DataFrame):\n",
    "    return None"
   ]
  },
  {
   "cell_type": "code",
   "execution_count": 4,
   "id": "6e2a0bdd-e551-4b5c-92d7-8b80072355e4",
   "metadata": {},
   "outputs": [
    {
     "name": "stdout",
     "output_type": "stream",
     "text": [
      "<class 'pandas.core.frame.DataFrame'>\n",
      "RangeIndex: 125843 entries, 0 to 125842\n",
      "Data columns (total 6 columns):\n",
      " #   Column       Non-Null Count   Dtype  \n",
      "---  ------       --------------   -----  \n",
      " 0   dt           125843 non-null  object \n",
      " 1   name         125843 non-null  object \n",
      " 2   clicks       125843 non-null  int64  \n",
      " 3   impressions  125843 non-null  int64  \n",
      " 4   cost         125843 non-null  float64\n",
      " 5   conversions  125843 non-null  float64\n",
      "dtypes: float64(2), int64(2), object(2)\n",
      "memory usage: 5.8+ MB\n"
     ]
    }
   ],
   "source": [
    "google_data.info()"
   ]
  },
  {
   "cell_type": "code",
   "execution_count": 4,
   "id": "18ea8e42-1398-4549-8b0f-5c32301030bb",
   "metadata": {},
   "outputs": [],
   "source": [
    "df"
   ]
  },
  {
   "cell_type": "code",
   "execution_count": 6,
   "id": "317b63a9-485d-4feb-b529-4c4eb048f444",
   "metadata": {},
   "outputs": [],
   "source": [
    "df_data_type_detection(df)"
   ]
  },
  {
   "cell_type": "markdown",
   "id": "7d96e2d8-a1b4-4ac2-ae04-32e2a5b68ff0",
   "metadata": {},
   "source": [
    "# Time Series data with single variable"
   ]
  },
  {
   "cell_type": "markdown",
   "id": "7e5b399b-d726-4705-812e-59d583ba73f0",
   "metadata": {},
   "source": [
    "## Seasonality Detector"
   ]
  },
  {
   "cell_type": "code",
   "execution_count": 75,
   "id": "0c6da21a-1fb6-48ed-b809-a8f7c131d9c2",
   "metadata": {},
   "outputs": [],
   "source": [
    "class SeasonalityDetector:\n",
    "    def __init__(self, data, date_column=None, value_column=None):\n",
    "        \"\"\"\n",
    "        Initialize the seasonality detector\n",
    "        \n",
    "        Parameters:\n",
    "        - data: DataFrame with date and value columns, or Series with datetime index\n",
    "        - date_column: name of date column (if DataFrame)\n",
    "        - value_column: name of value column (if DataFrame)\n",
    "        \"\"\"\n",
    "        # assign the target column value into the class instance\n",
    "        if date_column:\n",
    "            self.date_column = date_column\n",
    "        if value_column:\n",
    "            self.value_column = value_column\n",
    "\n",
    "        # turn the data frame into a time series for futher analysis\n",
    "        if isinstance(data, pd.DataFrame):\n",
    "            self.df = data.copy()\n",
    "            if date_column:\n",
    "                self.df[date_column] = pd.to_datetime(self.df[date_column])\n",
    "                self.df = self.df.sort_values(date_column).reset_index(drop = True)\n",
    "                self.df.set_index(date_column, inplace=True)\n",
    "            self.ts = self.df[value_column] if value_column else self.df.iloc[:, 0]\n",
    "        else:\n",
    "            self.ts = data.copy()\n",
    "            self.df = pd.DataFrame({'value': data})\n",
    "        \n",
    "        # Ensure datetime index\n",
    "        if not isinstance(self.ts.index, pd.DatetimeIndex):\n",
    "            raise ValueError(\"Index must be datetime\")\n",
    "            \n",
    "        # Spread to weekly and yearly data\n",
    "        self.daily, self.weekly, self.monthly, self.yearly = self.daily_to_weekly_and_yearly(date_col=date_column, value_col=value_column, method='sum', week_start='Sunday')\n",
    "            \n",
    "    def basic_statistics(self):\n",
    "        \"\"\"Calculate basic statistics\"\"\"\n",
    "        print(\"=== BASIC STATISTICS ===\")\n",
    "        print(f\"Period: {self.ts.index.min()} to {self.ts.index.max()}\")\n",
    "        print(f\"Total observations: {len(self.ts)}\")\n",
    "        print(f\"Mean: {self.ts.mean():.4f}\")\n",
    "        print(f\"Std: {self.ts.std():.4f}\")\n",
    "        print(f\"Min: {self.ts.min():.4f}\")\n",
    "        print(f\"Max: {self.ts.max():.4f}\")\n",
    "        print(f\"Missing values: {self.ts.isna().sum()}\")\n",
    "        \n",
    "    def visual_inspection(self):\n",
    "        \"\"\"Create visualizations for pattern detection\"\"\"\n",
    "        fig, axes = plt.subplots(2, 2, figsize=(15, 10))\n",
    "        \n",
    "        # Time series plot\n",
    "        axes[0,0].plot(self.monthly.index, self.monthly.values)\n",
    "        axes[0,0].set_title('Time Series')\n",
    "        axes[0,0].set_xlabel('Date')\n",
    "        axes[0,0].set_ylabel(f'{self.value_column}')\n",
    "        \n",
    "        # Monthly boxplot\n",
    "        axes[0,1].boxplot(x = self.monthly.values)\n",
    "        axes[0,1].set_title('Monthly Seasonality')\n",
    "        axes[0,1].set_ylabel(f'{self.value_column}')\n",
    "        \n",
    "        # Day of week boxplot\n",
    "        axes[1,0].boxplot(self.weekly.values)\n",
    "        axes[1,0].set_title('Day of Week Seasonality')\n",
    "        axes[1,0].set_xlabel('Day of Week')\n",
    "        axes[1,0].set_ylabel(f'{self.value_column}')\n",
    "        \n",
    "        # Histogram\n",
    "        axes[1,1].hist(self.ts.values, bins=30, alpha=0.7)\n",
    "        axes[1,1].set_title('Distribution')\n",
    "        axes[1,1].set_xlabel(f'{self.value_column}')\n",
    "        axes[1,1].set_ylabel('Frequency')\n",
    "        \n",
    "        plt.tight_layout()\n",
    "        plt.show()\n",
    "    \n",
    "    def daily_to_weekly_and_yearly(self, date_col=None, value_col=None, method='mean', week_start='Monday'):\n",
    "        \"\"\"\n",
    "        Convert daily data to weekly and yearly data\n",
    "\n",
    "        args:\n",
    "            date_col: str, name of date column (if DataFrame)\n",
    "            value_col: str, name of value column (if DataFrame)\n",
    "            method: str, aggregation method ('mean', 'sum', 'median', 'min', 'max', 'std', 'count')\n",
    "            week_start: str, 'Monday' or 'Sunday'\n",
    "\n",
    "        Returns:\n",
    "            \n",
    "        \"\"\"\n",
    "        # Set week start\n",
    "        if week_start == 'Sunday':\n",
    "            freq_weekly = 'W-SUN'\n",
    "        else:\n",
    "            freq_weekly = 'W-MON'  # Default is Monday\n",
    "\n",
    "        freq_yearly = 'YS'  # Year start frequency\n",
    "        freq_monthly = 'MS' # Month start frequency\n",
    "        freq_daily = 'D'\n",
    "\n",
    "        # Aggregate based on method\n",
    "        def aggregate_data(ts, freq, method):\n",
    "            if method == 'mean':\n",
    "                return ts.resample(freq).mean()\n",
    "            elif method == 'sum':\n",
    "                return ts.resample(freq).sum()\n",
    "            elif method == 'median':\n",
    "                return ts.resample(freq).median()\n",
    "            elif method == 'min':\n",
    "                return ts.resample(freq).min()\n",
    "            elif method == 'max':\n",
    "                return ts.resample(freq).max()\n",
    "            elif method == 'std':\n",
    "                return ts.resample(freq).std()\n",
    "            elif method == 'count':\n",
    "                return ts.resample(freq).count()\n",
    "            else:\n",
    "                raise ValueError(f\"Unknown method: {method}\")\n",
    "\n",
    "        # Generate weekly and yearly data\n",
    "        daily_data = aggregate_data(self.ts, freq_daily, method)\n",
    "        weekly_data = aggregate_data(self.ts, freq_weekly, method)\n",
    "        monthly_data = aggregate_data(self.ts, freq_monthly, method)\n",
    "        yearly_data = aggregate_data(self.ts, freq_yearly, method)\n",
    "\n",
    "        return daily_data, weekly_data, monthly_data, yearly_data\n",
    "\n",
    "    \n",
    "    def autocorrelation_analysis(self, \n",
    "                                 segments:str = 'daily'):\n",
    "        \"\"\"\n",
    "        Analyze autocorrelation patterns\n",
    "        \n",
    "        args:\n",
    "            segments: str, segments for determine the correlation, limited to daily, weekly\n",
    "        returns:\n",
    "            None\n",
    "        \n",
    "        \"\"\"\n",
    "        print(\"\\n=== AUTOCORRELATION ANALYSIS ===\")\n",
    "        \n",
    "        # Plot ACF and PACF\n",
    "        fig, axes = plt.subplots(2, 1, figsize=(15, 8))\n",
    "        \n",
    "        # based on the segments to check the lags\n",
    "        if segments == 'daily':\n",
    "            ts = self.ts\n",
    "        elif segments == 'weekly':\n",
    "            ts = self.weekly\n",
    "        else:\n",
    "            print(f\"'{segments}' is not a suitable segment!\")\n",
    "        \n",
    "        \n",
    "        # default lags\n",
    "        lags = 50\n",
    "        # ensure there's enough lags for look back\n",
    "        if len(ts) < lags:\n",
    "            lags = len(ts) - 1\n",
    "        \n",
    "        plot_acf(ts.dropna(), lags=lags, ax=axes[0], title='Autocorrelation Function')\n",
    "        axes[0].set_xlabel('Lags')\n",
    "        plot_pacf(ts.dropna(), lags=lags/2, ax=axes[1], title='Partial Autocorrelation Function')\n",
    "        axes[1].set_xlabel('Lags')\n",
    "        \n",
    "        plt.tight_layout()\n",
    "        plt.show()\n",
    "        \n",
    "        print(\"\\n=== Overall correlation in daily ===\")\n",
    "        # Calculate specific lag correlations\n",
    "        lags_to_check = [7, 30, 90, 180, 365]  # Weekly, monthly, quarterly, semi-annual, annual\n",
    "        \n",
    "        for lag in lags_to_check:\n",
    "            if len(self.ts) > lag:\n",
    "                correlation = self.ts.autocorr(lag=lag)\n",
    "                print(f\"Lag {lag} autocorrelation: {correlation:.4f}\")\n",
    "        return None\n",
    "    \n",
    "    def seasonal_decomposition(self, model='additive', period=365):\n",
    "        \"\"\"Perform seasonal decomposition\"\"\"\n",
    "        print(f\"\\n=== SEASONAL DECOMPOSITION (Period: {period}) ===\")\n",
    "        \n",
    "        try:\n",
    "            decomposition = seasonal_decompose(self.ts.dropna(), \n",
    "                                             model=model, \n",
    "                                             period=period)\n",
    "            \n",
    "            # Plot decomposition\n",
    "            fig, axes = plt.subplots(4, 1, figsize=(15, 12))\n",
    "            \n",
    "            decomposition.observed.plot(ax=axes[0], title='Original')\n",
    "            decomposition.trend.plot(ax=axes[1], title='Trend')\n",
    "            decomposition.seasonal.plot(ax=axes[2], title='Seasonal')\n",
    "            decomposition.resid.plot(ax=axes[3], title='Residual')\n",
    "            \n",
    "            plt.tight_layout()\n",
    "            plt.show()\n",
    "            \n",
    "            # Calculate seasonal strength\n",
    "            seasonal_strength = np.var(decomposition.seasonal) / np.var(decomposition.resid + decomposition.seasonal)\n",
    "            print(f\"Seasonal Strength: {seasonal_strength:.4f}\")\n",
    "            \n",
    "            return decomposition\n",
    "            \n",
    "        except Exception as e:\n",
    "            print(f\"Error in seasonal decomposition: {e}\")\n",
    "            return None"
   ]
  },
  {
   "cell_type": "code",
   "execution_count": 76,
   "id": "2ed0dcc9-46f6-44bf-85e3-23efc04c2a27",
   "metadata": {},
   "outputs": [],
   "source": [
    "# instance creation\n",
    "stock_ssd = SeasonalityDetector(df, date_column = 'date', value_column = 'close_p')"
   ]
  },
  {
   "cell_type": "markdown",
   "id": "8868e6e6-20ca-4f3f-b3b1-597f5d16d1c6",
   "metadata": {},
   "source": [
    "### Basic statistics on the time series data"
   ]
  },
  {
   "cell_type": "code",
   "execution_count": 71,
   "id": "eb71c0f7-3aa6-44ad-ad38-027171a77bd0",
   "metadata": {},
   "outputs": [
    {
     "name": "stdout",
     "output_type": "stream",
     "text": [
      "=== BASIC STATISTICS ===\n",
      "Period: 2023-02-16 00:00:00 to 2025-07-15 00:00:00\n",
      "Total observations: 641\n",
      "Mean: 198.4562\n",
      "Std: 25.0922\n",
      "Min: 145.3100\n",
      "Max: 259.0200\n",
      "Missing values: 0\n"
     ]
    }
   ],
   "source": [
    "# simple statistics\n",
    "stock_ssd.basic_statistics()"
   ]
  },
  {
   "cell_type": "markdown",
   "id": "4118afcd-5306-4216-bae0-15fb8f252b52",
   "metadata": {},
   "source": [
    "### Simple data visualization"
   ]
  },
  {
   "cell_type": "code",
   "execution_count": 72,
   "id": "2f2526be-ff97-4f99-b5d2-5a4a42dbad90",
   "metadata": {},
   "outputs": [
    {
     "data": {
      "image/png": "[encoded data removed]",
      "text/plain": [
       "<Figure size 1080x720 with 4 Axes>"
      ]
     },
     "metadata": {
      "needs_background": "light"
     },
     "output_type": "display_data"
    }
   ],
   "source": [
    "# look into the trend, monthly, daily outliers and the data distributions\n",
    "stock_ssd.visual_inspection()"
   ]
  },
  {
   "cell_type": "markdown",
   "id": "103dd023-c7ac-4e12-9066-387069a7c0a0",
   "metadata": {},
   "source": [
    "### Auto-correlation (ACF & PACF)"
   ]
  },
  {
   "cell_type": "markdown",
   "id": "3f1ac8a8-6262-4173-88e2-1eee9a4926f7",
   "metadata": {},
   "source": [
    "- ACF: Properly check the stability or if there's any exponential decay, all lags are in the confidence interval -> White noise.\n",
    "\n",
    "- PACF: Detect the order of auto-regressions, pay attention to the lag out of the confidence interval, those lags within the interval assuming there's no effect."
   ]
  },
  {
   "cell_type": "code",
   "execution_count": 73,
   "id": "36c1a2e5-f099-45e2-bf86-e4168e8faa0f",
   "metadata": {},
   "outputs": [
    {
     "name": "stdout",
     "output_type": "stream",
     "text": [
      "\n",
      "=== AUTOCORRELATION ANALYSIS ===\n"
     ]
    },
    {
     "data": {
      "image/png": "[encoded data removed]",
      "text/plain": [
       "<Figure size 1080x576 with 2 Axes>"
      ]
     },
     "metadata": {
      "needs_background": "light"
     },
     "output_type": "display_data"
    },
    {
     "name": "stdout",
     "output_type": "stream",
     "text": [
      "\n",
      "=== Overall correlation in daily ===\n",
      "Lag 7 autocorrelation: 0.9407\n",
      "Lag 30 autocorrelation: 0.7945\n",
      "Lag 90 autocorrelation: 0.4352\n",
      "Lag 180 autocorrelation: 0.0038\n",
      "Lag 365 autocorrelation: -0.0357\n"
     ]
    }
   ],
   "source": [
    "stock_ssd.autocorrelation_analysis('daily')"
   ]
  },
  {
   "cell_type": "markdown",
   "id": "52b1f6d9-90c2-40fc-98a3-72c1edc69e0f",
   "metadata": {},
   "source": [
    "### Seasonal decomposition"
   ]
  },
  {
   "cell_type": "markdown",
   "id": "58422ac2-cd30-4333-98ea-5004f4b9d8de",
   "metadata": {},
   "source": [
    "There must be at least 2 years data."
   ]
  },
  {
   "cell_type": "code",
   "execution_count": 80,
   "id": "93fb52b8-3fd1-48cd-819b-8f4f58607623",
   "metadata": {},
   "outputs": [
    {
     "name": "stdout",
     "output_type": "stream",
     "text": [
      "\n",
      "=== SEASONAL DECOMPOSITION (Period: 365) ===\n",
      "Error in seasonal decomposition: x must have 2 complete cycles requires 730 observations. x only has 641 observation(s)\n"
     ]
    }
   ],
   "source": [
    "stock_ssd.seasonal_decomposition()"
   ]
  },
  {
   "cell_type": "code",
   "execution_count": null,
   "id": "bb99a2a1-77af-4e69-8b44-290f299c652a",
   "metadata": {},
   "outputs": [],
   "source": []
  }
 ],
 "metadata": {
  "kernelspec": {
   "display_name": "Python 3 (ipykernel)",
   "language": "python",
   "name": "python3"
  },
  "language_info": {
   "codemirror_mode": {
    "name": "ipython",
    "version": 3
   },
   "file_extension": ".py",
   "mimetype": "text/x-python",
   "name": "python",
   "nbconvert_exporter": "python",
   "pygments_lexer": "ipython3",
   "version": "3.9.7"
  }
 },
 "nbformat": 4,
 "nbformat_minor": 5
}
